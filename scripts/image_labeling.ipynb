{
 "cells": [
  {
   "cell_type": "markdown",
   "id": "better-conducting",
   "metadata": {},
   "source": [
    "# Image Labeling"
   ]
  },
  {
   "cell_type": "code",
   "execution_count": 1,
   "id": "greatest-facility",
   "metadata": {},
   "outputs": [],
   "source": [
    "from pathlib import Path\n",
    "from fashion_image_classifier.image_labeling import ImageLabeler\n",
    "from sqlalchemy import create_engine, inspect\n",
    "import pandas as pd"
   ]
  },
  {
   "cell_type": "code",
   "execution_count": 2,
   "id": "ultimate-jewel",
   "metadata": {},
   "outputs": [],
   "source": [
    "# Open the DB connection set the directory where the labeled Images are to be stored\n",
    "e = create_engine(\"sqlite:///../workdir/project.db\")\n",
    "SAVE_PATH = Path(\"../workdir/training_images\").absolute()"
   ]
  },
  {
   "cell_type": "code",
   "execution_count": 3,
   "id": "lucky-making",
   "metadata": {},
   "outputs": [],
   "source": [
    "# Get the images and nitialize the labeler with them (and the SAVE_PATH)\n",
    "image_urls = pd.read_sql(\"SELECT DISTINCT image FROM images\", e).image.tolist()\n",
    "labeler = ImageLabeler(image_urls, SAVE_PATH)"
   ]
  },
  {
   "cell_type": "code",
   "execution_count": 4,
   "id": "cutting-proof",
   "metadata": {},
   "outputs": [
    {
     "data": {
      "application/vnd.jupyter.widget-view+json": {
       "model_id": "bcca017309dd4a9cb87eb35a7f9c4bee",
       "version_major": 2,
       "version_minor": 0
      },
      "text/plain": [
       "HTML(value='0 examples annotated, 123562 examples left')"
      ]
     },
     "metadata": {},
     "output_type": "display_data"
    },
    {
     "data": {
      "application/vnd.jupyter.widget-view+json": {
       "model_id": "4c57cff9786c4d398a85ff5bbe12de19",
       "version_major": 2,
       "version_minor": 0
      },
      "text/plain": [
       "HBox(children=(Button(description='worn', style=ButtonStyle()), Button(description='not_worn', style=ButtonSty…"
      ]
     },
     "metadata": {},
     "output_type": "display_data"
    },
    {
     "data": {
      "application/vnd.jupyter.widget-view+json": {
       "model_id": "d7862575c08b4b65bef7c0fb76681555",
       "version_major": 2,
       "version_minor": 0
      },
      "text/plain": [
       "Output()"
      ]
     },
     "metadata": {},
     "output_type": "display_data"
    }
   ],
   "source": [
    "# Start labeling images\n",
    "labeler.label_images()"
   ]
  },
  {
   "cell_type": "code",
   "execution_count": 5,
   "id": "virgin-member",
   "metadata": {},
   "outputs": [],
   "source": [
    "# Write the images to disk at any moment (lalbeling doesn't have to be finished (or interrupted))\n",
    "labeler.save_images()"
   ]
  }
 ],
 "metadata": {
  "kernelspec": {
   "display_name": "Python 3",
   "language": "python",
   "name": "python3"
  },
  "language_info": {
   "codemirror_mode": {
    "name": "ipython",
    "version": 3
   },
   "file_extension": ".py",
   "mimetype": "text/x-python",
   "name": "python",
   "nbconvert_exporter": "python",
   "pygments_lexer": "ipython3",
   "version": "3.9.1"
  }
 },
 "nbformat": 4,
 "nbformat_minor": 5
}
