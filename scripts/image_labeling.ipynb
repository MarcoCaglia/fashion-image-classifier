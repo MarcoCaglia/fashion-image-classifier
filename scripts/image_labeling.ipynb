{
 "cells": [
  {
   "cell_type": "markdown",
   "id": "broadband-nurse",
   "metadata": {},
   "source": [
    "# Image Labeling"
   ]
  },
  {
   "cell_type": "code",
   "execution_count": 1,
   "id": "gothic-audience",
   "metadata": {},
   "outputs": [],
   "source": [
    "from pigeon import annotate\n",
    "from IPython.display import display\n",
    "from IPython.display import Image as show_image\n",
    "from PIL import Image\n",
    "import PIL\n",
    "import numpy as np\n",
    "from pathlib import Path"
   ]
  },
  {
   "cell_type": "code",
   "execution_count": 2,
   "id": "immediate-machine",
   "metadata": {},
   "outputs": [],
   "source": [
    "unlabeled_images = Path(\"workdir/training_images/unlabeled\").glob(\"image_*.png\")\n",
    "worn_images = Path(\"workdir/training_images/worn\").glob(\"image_*.png\")\n",
    "not_worn_images = Path(\"workdir/training_images/not-worn\").glob(\"image_*.png\")\n",
    "\n",
    "labeled = {path.as_posix().split(\"/\")[-1] for path in (list(worn_images) + list(not_worn_images))}\n",
    "unlabeled = {path.as_posix().split(\"/\")[-1] for path in unlabeled_images}\n",
    "still_to_label = unlabeled - labeled\n",
    "\n",
    "unlabeled_images = [Path(\"workdir/training_images/unlabeled\").joinpath(image) for image in still_to_label]"
   ]
  },
  {
   "cell_type": "code",
   "execution_count": 3,
   "id": "standard-composition",
   "metadata": {},
   "outputs": [
    {
     "data": {
      "application/vnd.jupyter.widget-view+json": {
       "model_id": "b5037dd653ca4758be051b7d9a23eeb0",
       "version_major": 2,
       "version_minor": 0
      },
      "text/plain": [
       "HTML(value='0 examples annotated, 2266 examples left')"
      ]
     },
     "metadata": {},
     "output_type": "display_data"
    },
    {
     "data": {
      "application/vnd.jupyter.widget-view+json": {
       "model_id": "d9fac234106141dea7a2b3d261fec962",
       "version_major": 2,
       "version_minor": 0
      },
      "text/plain": [
       "HBox(children=(Button(description='Worn', style=ButtonStyle()), Button(description='Not-Worn', style=ButtonSty…"
      ]
     },
     "metadata": {},
     "output_type": "display_data"
    },
    {
     "data": {
      "application/vnd.jupyter.widget-view+json": {
       "model_id": "99c08b496bbb4b2ba44989785d6eafa1",
       "version_major": 2,
       "version_minor": 0
      },
      "text/plain": [
       "Output()"
      ]
     },
     "metadata": {},
     "output_type": "display_data"
    }
   ],
   "source": [
    "annotations = annotate(\n",
    "    unlabeled_images,\n",
    "    options=['Worn', 'Not-Worn'],\n",
    "    display_fn=lambda filename: display(show_image(filename))\n",
    ")"
   ]
  },
  {
   "cell_type": "code",
   "execution_count": 4,
   "id": "appropriate-southwest",
   "metadata": {},
   "outputs": [],
   "source": [
    "def save_annotated_images(annotated_images):\n",
    "    for path, label in annotated_images:\n",
    "        label_path = path.as_posix().replace(\"unlabeled\", label.lower())\n",
    "        image = PIL.Image.open(path)\n",
    "        image.save(label_path)"
   ]
  },
  {
   "cell_type": "code",
   "execution_count": 5,
   "id": "undefined-heaven",
   "metadata": {},
   "outputs": [],
   "source": [
    "save_annotated_images(annotations)"
   ]
  }
 ],
 "metadata": {
  "kernelspec": {
   "display_name": "Python 3",
   "language": "python",
   "name": "python3"
  },
  "language_info": {
   "codemirror_mode": {
    "name": "ipython",
    "version": 3
   },
   "file_extension": ".py",
   "mimetype": "text/x-python",
   "name": "python",
   "nbconvert_exporter": "python",
   "pygments_lexer": "ipython3",
   "version": "3.9.1"
  }
 },
 "nbformat": 4,
 "nbformat_minor": 5
}
